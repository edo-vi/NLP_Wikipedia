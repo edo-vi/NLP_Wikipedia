{
 "cells": [
  {
   "cell_type": "markdown",
   "metadata": {},
   "source": [
    "# Data, classification task"
   ]
  },
  {
   "cell_type": "markdown",
   "metadata": {},
   "source": [
    "Our data will be a set of articles downloaded from Wikipedia that we need to classify as concerning 'Medical' topics, or 'Non medical'; in particular, we need to classify documents in two classes: those with a 'Medical' tags, and those without it."
   ]
  },
  {
   "cell_type": "markdown",
   "metadata": {},
   "source": [
    "## Data retrieval"
   ]
  },
  {
   "cell_type": "markdown",
   "metadata": {},
   "source": [
    "To create a dataset that can be used for the classification task we need to download articles from Wikipedia API. Wikipedia already groups articles under different categories, so for this binary classification task we can just use their functions to select a category and then download articles belonging to that category.\n",
    "\n",
    "Wikipedia categories are highly hierarchical, so, for e.g., the category 'Medicine' contains few articles and many subcategories, which are themselves articles; these in turn contains many other subcategories and so on.\n",
    "To 'fix' the search I did some exploratory analysis of the available categories to determine which had enouigh articles to build a decently-sized dataset. \n",
    "\n",
    "For the medical catogories, I went with the following categories:"
   ]
  },
  {
   "cell_type": "code",
   "execution_count": 48,
   "metadata": {},
   "outputs": [],
   "source": [
    "medical_categories = [\n",
    "    \"Category:Alternative medicine stubs\",\n",
    "    \"Category:Evidence-based medicine\",\n",
    "    \"Category:Veterinary medicine stubs\",\n",
    "    \"Category:Vaccination\",\n",
    "    \"Category:2018 disease outbreaks\",\n",
    "]"
   ]
  },
  {
   "cell_type": "markdown",
   "metadata": {},
   "source": [
    "For the non-medical categories, I went with scientific and non-scientific categories. I did explicity add scientific/related categories to make the classification task more interesting: i expect an article belonging to the 'Literature' to be classified correctly quite easily; an article belonging to 'Geology' or 'AI', a bit less (due to possible overlapping topics).  "
   ]
  },
  {
   "cell_type": "code",
   "execution_count": 49,
   "metadata": {},
   "outputs": [],
   "source": [
    "non_medical_categories = [\n",
    "    \"Category:Dark ages\",\n",
    "    \"Category:Historiography of China\",\n",
    "    \"Category:Sports controversies\",\n",
    "    \"Category:Philosophy of artificial intelligence\",\n",
    "    \"Category:Geology\",\n",
    "    \"Category:Space\",\n",
    "    \"Category:Literature\",\n",
    "    \"Category:Music videos\",\n",
    "]"
   ]
  },
  {
   "cell_type": "markdown",
   "metadata": {},
   "source": [
    "We use these categories to download the articles's *ids* using the function"
   ]
  },
  {
   "cell_type": "code",
   "execution_count": 50,
   "metadata": {},
   "outputs": [],
   "source": [
    "import requests\n",
    "\n",
    "\n",
    "# \"url\": url of the API; \"categories\": categories from which we want to extract (aggregate) ids\n",
    "# \"force_download\": if True, download them from the API; do nothing otherwise\n",
    "def get_ids(url, categories, force_download=False):\n",
    "    if not force_download:\n",
    "        print(\" ! Returned empty ids because force_download was set to False !\")\n",
    "        return []\n",
    "\n",
    "    returned_ids = []\n",
    "\n",
    "    for c in categories:\n",
    "        params = {\n",
    "            \"action\": \"query\",\n",
    "            \"cmtitle\": c,\n",
    "            \"cmlimit\": \"500\",\n",
    "            # \"cmtype\": \"subcat\",\n",
    "            \"list\": \"categorymembers\",\n",
    "            \"format\": \"json\",\n",
    "        }\n",
    "\n",
    "        req = requests.get(url=url, params=params)\n",
    "        pages = req.json()[\"query\"][\"categorymembers\"]\n",
    "\n",
    "        page_ids = [page[\"pageid\"] for page in pages]\n",
    "\n",
    "        for id in page_ids:\n",
    "            new_params = {\n",
    "                \"format\": \"json\",\n",
    "                \"action\": \"query\",\n",
    "                \"prop\": \"extracts\",\n",
    "                \"exintro\": True,\n",
    "                \"explaintext\": True,\n",
    "                \"redirects\": 1,\n",
    "                \"pageids\": id,\n",
    "            }\n",
    "            req = requests.get(url, new_params)\n",
    "            try:\n",
    "                title = req.json()[\"query\"][\"pages\"][str(id)][\"title\"]\n",
    "                # print(title)\n",
    "                if (\n",
    "                    title.startswith(\"Category\")\n",
    "                    or title.startswith(\"Template\")\n",
    "                    or title.startswith(\"Portal\")\n",
    "                ):\n",
    "                    continue\n",
    "                else:\n",
    "                    returned_ids.append(id)\n",
    "            except:\n",
    "                print(f\"||Failed at id {id}||\")\n",
    "\n",
    "    return returned_ids"
   ]
  },
  {
   "cell_type": "code",
   "execution_count": 51,
   "metadata": {},
   "outputs": [
    {
     "name": "stdout",
     "output_type": "stream",
     "text": [
      " ! Returned empty ids because force_download was set to False !\n",
      " ! Returned empty ids because force_download was set to False !\n"
     ]
    }
   ],
   "source": [
    "url = \"https://en.wikipedia.org/w/api.php\"\n",
    "# We download them like this\n",
    "__M_IDS__ = get_ids(url, medical_categories)\n",
    "__NON_M_IDS__ = get_ids(url, non_medical_categories)\n",
    "# !! BE CAREFUL: it takes a lot of time, so the function actually doesn't return them unless you force the download"
   ]
  },
  {
   "cell_type": "markdown",
   "metadata": {},
   "source": [
    "Ids example and dataset sizes"
   ]
  },
  {
   "cell_type": "code",
   "execution_count": 52,
   "metadata": {},
   "outputs": [
    {
     "name": "stdout",
     "output_type": "stream",
     "text": [
      "Medical ids (clipped): [46303046, 5835531, 3887850, 52103535, 33076141, 5335383, 40440492, 4031180, 66655182, 55554061, 951614, 66012376, 10420896, 3740763, 3296243, 6868776, 38474884, 300772, 10616040, 36732930] ...\n",
      "\n",
      "Non medical ids (clipped): [7410249, 18400571, 90138, 5571005, 53290497, 5832437, 48110, 1840762, 2958015, 8099572, 18472072, 4513331, 25508360, 3054853, 68092158, 34043, 440393, 36082813, 4175228, 13666328] ... \n",
      "\n",
      "Size of the medical dataset: 457\n",
      "Size of the non-medical dataset: 399\n",
      "Total dataset size: 856\n"
     ]
    }
   ],
   "source": [
    "# For presentation purposes, we show the one that we have already used, without needing to compute them another time\n",
    "from ids import __M_IDS__, __NON_M_IDS__\n",
    "\n",
    "print(f\"Medical ids (clipped): {__M_IDS__[:20]} ...\\n\")\n",
    "print(f\"Non medical ids (clipped): {__NON_M_IDS__[:20]} ... \\n\")\n",
    "\n",
    "print(f\"Size of the medical dataset: {len(__M_IDS__)}\")\n",
    "print(f\"Size of the non-medical dataset: {len(__NON_M_IDS__)}\")\n",
    "print(f\"Total dataset size: {len(__M_IDS__) + len(__NON_M_IDS__)}\")"
   ]
  },
  {
   "cell_type": "markdown",
   "metadata": {},
   "source": [
    "We have now two sets of ids: medical ids and non-medical ids. We will use them to download articles and build our dataset. "
   ]
  },
  {
   "cell_type": "code",
   "execution_count": 53,
   "metadata": {},
   "outputs": [],
   "source": [
    "# \"ids\": ids used of downloaded documents;\n",
    "# \"kind\": medical or non-medical, used to separate the two types of documents into two folders for ease of use\n",
    "def download_documents(ids, kind):\n",
    "    for id in ids:\n",
    "        new_params = {\n",
    "            \"format\": \"json\",\n",
    "            \"action\": \"query\",\n",
    "            \"prop\": \"revisions\",\n",
    "            \"rvslots\": \"*\",\n",
    "            \"rvprop\": \"content\",\n",
    "            \"redirects\": 1,\n",
    "            \"pageids\": id,\n",
    "        }\n",
    "        req = requests.get(url, new_params)\n",
    "        try:\n",
    "            title = req.json()[\"query\"][\"pages\"][str(id)][\"revisions\"][0][\"slots\"][\n",
    "                \"main\"\n",
    "            ][\"*\"]\n",
    "            with open(f\"./documents/{kind}/{id}.txt\", \"w\") as f:\n",
    "                f.write(title)\n",
    "        except:\n",
    "            print(f\"||Failed at id {id}||\")"
   ]
  },
  {
   "cell_type": "markdown",
   "metadata": {},
   "source": [
    "We download all the documents and store them in 'documents/medicine' and 'documents/non_medicine'."
   ]
  },
  {
   "cell_type": "markdown",
   "metadata": {},
   "source": [
    "### Examples of documents"
   ]
  },
  {
   "cell_type": "markdown",
   "metadata": {},
   "source": [
    "**Medical**"
   ]
  },
  {
   "cell_type": "markdown",
   "metadata": {},
   "source": [
    "```\n",
    "{{Short description|University in Tianjin, China}}\n",
    "'''Tianjin University of Traditional Chinese Medicine''' (天津中医药大学 in [[Chinese language|Chinese]]) is  a university in [[Tianjin]], [[China]], under the municipal government. Specialized in traditional Chinese Medicine, it is selected by the Chinese state [[Double First Class University Plan|Double First-Class University]], included in the national Double First Class University Plan.<ref name=\"Chinese Department of Education\">{{Cite web |url=http://www.moe.gov.cn/srcsite/A22/moe_843/201709/t20170921_314942.html |title=教育部 财政部 国家发展改革委 关于公布世界一流大学和一流学科建设高校及建设 学科名单的通知 (Notice from the Ministry of Education and other national governmental departments announcing the list of double first class universities and disciplines)}}</ref>\n",
    "\n",
    " == See also ==\n",
    "[[Japan Campus of Foreign Universities]]\n",
    "\n",
    "== References ==\n",
    "{{Reflist}}\n",
    "\n",
    "{{-}}\n",
    "{{Universities and colleges in Tianjin}}\n",
    "\n",
    "{{coord missing|Tianjin}}\n",
    "\n",
    "{{authority control}}\n",
    "\n",
    "{{DEFAULTSORT:Tianjin University of Traditional Chinese Medicine}}\n",
    "[[Category:Universities and colleges in Tianjin]]\n",
    "[[Category:Traditional Chinese medical schools in China]]\n",
    "[[Category:Medical and health organizations based in China]]\n",
    "\n",
    "\n",
    "{China-university-stub}}\n",
    "{{Alt-med-stub}}\n",
    "```"
   ]
  },
  {
   "cell_type": "markdown",
   "metadata": {},
   "source": [
    "**Non-medical**"
   ]
  },
  {
   "cell_type": "markdown",
   "metadata": {},
   "source": [
    "```\n",
    "{{Short description|Abbreviation of 1,000,000 years}}{{redirect|Million years ago|the [[Adele]] song|Million Years Ago (song)|1,000,000 BC|one million (disambiguation)}}\n",
    "{{about|\"million years\" (Myr)|the [[Taake]] song|Noregs vaapen|other uses}}\n",
    "\n",
    "'''Myr''' is an abbreviation for '''million years''', a [[unit of time]] equal to {{val|fmt=commas|1000000|u=years}} (i.e. {{val|1|e=6}} years), or 31.556926 [[Terasecond and longer#Teraseconds|teraseconds]].\n",
    "It is equivalent to one ''[[megaannum]]'' (symbol Ma), based on the [[metric prefix]] [[mega-]].\n",
    "\n",
    "==Usage==\n",
    "Myr (million years) is in common use in fields such as [[Earth science]] and [[cosmology]]. Myr is also used with '''Mya''' or '''Ma''' (million years ago). Together they make a reference system, one to a quantity, the other to a particular place in a [[calendar era|year numbering system]] that is ''time before the present''.\n",
    "\n",
    "Myr is deprecated in [[geology]], but in [[astronomy]] ''Myr'' is standard. Where \"myr\" ''is'' seen in geology it is usually \"Myr\" (a unit of mega-years). In astronomy it is usually \"Myr\" (Million years).\n",
    "\n",
    "== Debate ==\n",
    "In geology a debate remains open concerning the use of ''Myr'' (duration) plus ''Ma'' (million years ago) versus using only the term ''Ma''.<ref>{{cite web|last=Mozley|first=Peter|title=Discussion of GSA Time Unit Conventions|url=https://www.geosociety.org/TimeUnits/|work=web page|publisher=[[Geological Society of America]]|archive-url=https://web.archive.org/web/20160303232640/https://www.geosociety.org/TimeUnits/|archive-date=2016-03-03}}</ref><ref name=\"Biever-war\">{{cite journal |first=Celeste |last=Biever |title=Push to define year sparks time war |journal=[[New Scientist]] |volume=210 |issue=2810 |pages=10 |url=https://www.newscientist.com/article/dn20423-push-to-define-year-sparks-time-war.html |date=April 27, 2011 |access-date=April 28, 2011|bibcode=2011NewSc.210R..10B |doi=10.1016/S0262-4079(11)60955-X }}</ref> In either case the term ''[[Year#SI prefix multipliers|Ma]]'' is used in geology literature conforming to [[ISO 31-1]] (now [[ISO 80000-3]]) and NIST 811 recommended practices. Traditional style geology literature is written {{Quote|The Cretaceous started 145 Ma and ended 66 Ma, lasting for 79 Myr.}}\n",
    "The \"ago\" is implied, so that any such year number \"X Ma\" between 66 and 145 is \"Cretaceous\", for good reason. But the counter argument is that having ''myr'' for a duration and ''Mya'' for an age mixes unit systems, and tempts capitalization errors: \"million\" need not be capitalized, but \"mega\" must be; \"ma\" would technically imply a ''milliyear'' (a thousandth of a year, or 8 hours). On this side of the debate, one avoids ''myr'' and simply adds ''ago'' explicitly (or adds ''[[Before Present|BP]]''), as in {{Quote|The Cretaceous started 145 Ma ago and ended 66 Ma ago, lasting for 79 Ma.}}\n",
    "In this case, \"79 Ma\" means only a quantity of 79 million years, without the meaning of \"79 million years ago\".\n",
    "\n",
    "== See also ==\n",
    "* [[Billion years|Byr]]\n",
    "* [[Kyr]]\n",
    "* [[Year#SI prefix multipliers|Megaannum]] (Ma)\n",
    "* [[Year#Abbreviations yr and ya|Symbols y and yr]]\n",
    "\n",
    "==References==\n",
    "<references/>\n",
    "\n",
    "{{Portal bar|Earth science|Mathematics|Astronomy|Stars}}\n",
    "\n",
    "[[Category:Units of time]]\n",
    "[[Category:Units of measurement in astronomy]]\n",
    "[[Category:Geology]]\n",
    "```"
   ]
  },
  {
   "cell_type": "markdown",
   "metadata": {},
   "source": [
    "## Cleaning\n",
    "\n",
    "As you can see, they are very raw and have lots of useless, for the purpose of classification, symbols and words that are used by Wikipedia to render and refer to the article. We need to clean these documents."
   ]
  },
  {
   "cell_type": "code",
   "execution_count": 54,
   "metadata": {},
   "outputs": [],
   "source": [
    "import re\n",
    "import os\n",
    "\n",
    "\n",
    "# Given a folder containing the desired documents, clean them and save them in './documents'.\n",
    "def clean_documents(folder):\n",
    "    path = f\"./documents/{folder}\"\n",
    "    os.chdir(path)\n",
    "    for file in os.listdir():\n",
    "        # Check whether file is in text format or not\n",
    "        if file.endswith(\".txt\"):\n",
    "            file_path = f\"{path}/{file}\"\n",
    "\n",
    "            new_lines = []\n",
    "            with open(file, \"r\") as f:\n",
    "                # All lines contained in the file\n",
    "                lines = f.readlines()\n",
    "                for l in lines:\n",
    "                    # Clean line and add to new_lines\n",
    "                    new_lines.append(clean_string(l))\n",
    "            f_path = file.split(\".\")[0]\n",
    "            new_path = f\"../{f_path}_c.txt\"\n",
    "            # Save to \"./documents/{file_path}_c.txt\"\n",
    "            with open(new_path, \"w\") as fw:\n",
    "                for nl in new_lines:\n",
    "                    fw.write(nl)\n",
    "\n",
    "\n",
    "# Clean a string. These are heuristic-based rules that work on Wikipedia articles\n",
    "def clean_string(string):\n",
    "    string = re.sub(\"<ref.*?</ref>\", \"\", string)  # removes refs\n",
    "    string = re.sub(\"<ref.*?/>\", \"\", string)  # idem\n",
    "    string = re.sub(\"{.*?}\", \"\", string)  # removes \"{...}\"\n",
    "    string = re.sub(\n",
    "        \"\\|.*\\n?\", \"\", string\n",
    "    )  # removes lines starting with \"|\"\" and continuing until the end\n",
    "    string = re.sub(\"(Category).*\\n?\", \"\", string)\n",
    "    string = re.sub(\"(thumb\\|.*?\\|)\", \"\", string)  # removes \"thumb|...|\"\n",
    "    string = re.sub(\n",
    "        \"(thumb)\", \"\", string\n",
    "    )  # removes \"thumb\" (cannot easily distinguish all cases)\n",
    "    string = re.sub(\n",
    "        \"\\[\\[.*?\\|\", \"\", string\n",
    "    )  # removes links such as [[dieting|diet]], but only the first part (up until \"|\"), which is the link.\n",
    "    string = re.sub(\n",
    "        \"[\\[,\\],{,},',\\\\',\\,\\.,#,=,*\\|`-]\", \"\", string\n",
    "    )  # removes all remaining bad characters: left out [], {}, #, =, |, ', `, -, *\n",
    "    string = re.sub(\"\\\\n\", \"\\n\", string)  # removes newlines\n",
    "    return string"
   ]
  },
  {
   "cell_type": "markdown",
   "metadata": {},
   "source": [
    "### Example of cleaned document (check last example)"
   ]
  },
  {
   "cell_type": "markdown",
   "metadata": {},
   "source": [
    "```\n",
    "Myr is an abbreviation for million years a unit of time equal to  (ie  years) or 31556926 Terasecond and longerTerasecondsIt is equivalent to one megaannum (symbol Ma) based on the metric prefix mega\n",
    "\n",
    "Usage\n",
    "Myr (million years) is in common use in fields such as Earth science and cosmology Myr is also used with Mya or Ma (million years ago) Together they make a reference system one to a quantity the other to a particular place in a calendar era\n",
    "Myr is deprecated in geology but in astronomy Myr is standard Where \"myr\" is seen in geology it is usually \"Myr\" (a unit of megayears) In astronomy it is usually \"Myr\" (Million years)\n",
    "\n",
    " Debate \n",
    "In geology a debate remains open concerning the use of Myr (duration) plus Ma (million years ago) versus using only the term Ma In either case the term YearSI prefix multipliersThe \"ago\" is implied so that any such year number \"X Ma\" between 66 and 145 is \"Cretaceous\" for good reason But the counter argument is that having myr for a duration and Mya for an age mixes unit systems and tempts capitalization errors: \"million\" need not be capitalized but \"mega\" must be; \"ma\" would technically imply a milliyear (a thousandth of a year or 8 hours) On this side of the debate one avoids myr and simply adds ago explicitly (or adds Before PresentIn this case \"79 Ma\" means only a quantity of 79 million years without the meaning of \"79 million years ago\"\n",
    "\n",
    " See also \n",
    " Billion years Kyr\n",
    " YearSI prefix multipliers YearAbbreviations yr and ya\n",
    "References\n",
    "```"
   ]
  },
  {
   "cell_type": "markdown",
   "metadata": {},
   "source": [
    "# Classification\n",
    "\n",
    "Now that we have our cleaned dataset, divided by category, we can start with the classification task.\n",
    "\n",
    "I developed a custom class called MyCounter (similar to python Counter) which is basically a dictionary specialized in dealing with 'string' keys and 'integer' values that will implement the Bag of Word representation for a document. In a nutshell, Document --> MyCounter (BoW).\n",
    "\n",
    "For both classification tasks, the cleaned documents are preprocesses before going with a BoW representation: they first get tokenized, and then a process of stop word elimination and lemmatization is carried on upon these tokens before proceding with the counts.\n",
    "All these functions are implemented using `NLKT`, an open-source NLP python library. This process, in particular, is carried on by the function `make_bow`."
   ]
  },
  {
   "cell_type": "markdown",
   "metadata": {},
   "source": [
    "## Naive Bayes"
   ]
  },
  {
   "cell_type": "markdown",
   "metadata": {},
   "source": [
    "### Explanation, choices\n",
    "For Naive Bayes we assume that the likelihood of each word, given a class, is independent of each other word. To compute this likelihood we simply check, for each class (represented by a mega-document build from the training set), the probability of that word by counting how many times it appears divided by the total number of words. \n",
    "\n",
    "To avoid zero issues I implemented the probability estimation using counts with the Laplace correction."
   ]
  },
  {
   "cell_type": "code",
   "execution_count": 55,
   "metadata": {},
   "outputs": [
    {
     "name": "stderr",
     "output_type": "stream",
     "text": [
      "[nltk_data] Downloading package punkt to /home/edoardo/nltk_data...\n",
      "[nltk_data]   Package punkt is already up-to-date!\n",
      "[nltk_data] Downloading package stopwords to\n",
      "[nltk_data]     /home/edoardo/nltk_data...\n",
      "[nltk_data]   Package stopwords is already up-to-date!\n",
      "[nltk_data] Downloading package wordnet to /home/edoardo/nltk_data...\n",
      "[nltk_data]   Package wordnet is already up-to-date!\n"
     ]
    }
   ],
   "source": [
    "import numpy as np\n",
    "from MyCounter import MyCounter\n",
    "from sklearn.metrics import RocCurveDisplay, precision_score, recall_score, f1_score\n",
    "import nltk\n",
    "\n",
    "# Necessary downloads\n",
    "nltk.download(\"punkt\")\n",
    "nltk.download(\"stopwords\")\n",
    "nltk.download(\"wordnet\")\n",
    "\n",
    "VALIDATION_SIZE = 86  # 10% of the dataset\n",
    "\n",
    "\n",
    "def naive_bayes():\n",
    "    print(\"_____ NAIVE BAYES _____\")\n",
    "    # Build labels: just a map id -> 1 if medical, 0 oth.\n",
    "    labels = make_labels(__M_IDS__, __NON_M_IDS__)\n",
    "\n",
    "    # Obtain training and validation set, for both classes\n",
    "    medical_training_set, non_medical_training_set = get_training_ids()\n",
    "    medical_validation_set, non_medical_validation_set = get_validation_ids()\n",
    "\n",
    "    # Assert that we are splitting correctly the datasets\n",
    "    assert len(medical_training_set) + len(medical_validation_set) == len(__M_IDS__)\n",
    "    assert len(non_medical_training_set) + len(non_medical_validation_set) == len(\n",
    "        __NON_M_IDS__\n",
    "    )\n",
    "\n",
    "    # We computes now two mega-documents by summing\n",
    "    # the counts for each tagged document of the class\n",
    "    medical_mega_document = MyCounter({}, stemmed=True)\n",
    "\n",
    "    for mi in medical_training_set:\n",
    "        medical_mega_document.update(make_bow(mi))\n",
    "\n",
    "    non_medical_mega_document = MyCounter({}, stemmed=True)\n",
    "\n",
    "    for nmi in non_medical_training_set:\n",
    "        non_medical_mega_document.update(make_bow(nmi))\n",
    "\n",
    "    # Compute the ratio and use it as prior\n",
    "    ratio = len(medical_training_set) / (\n",
    "        len(medical_training_set) + len(non_medical_training_set)\n",
    "    )\n",
    "    # The priors are simply the ratios\n",
    "    priors = [ratio, 1 - ratio]\n",
    "\n",
    "    # Combine the validation set\n",
    "    validation_set = medical_validation_set + non_medical_validation_set\n",
    "\n",
    "    # Apply the classifier and compute the scores\n",
    "    predict_and_score(\n",
    "        validation_set, labels, priors, medical_mega_document, non_medical_mega_document\n",
    "    )\n",
    "\n",
    "\n",
    "def get_training_ids():\n",
    "    # We compute the ration to balance the validation set\n",
    "    ratio = len(__M_IDS__) / (len(__M_IDS__) + len(__NON_M_IDS__))\n",
    "\n",
    "    # Split the validation size into two parts: a medical part, and a non-medical part,\n",
    "    # so that the validation set is balanced with respect to the two classes\n",
    "    # VALIDATION_SIZE is a set amount that I decided (86, i.e. 10%)\n",
    "    quote_m = int(ratio * VALIDATION_SIZE)\n",
    "    quote_n_m = VALIDATION_SIZE - quote_m\n",
    "\n",
    "    # Obviously \"quote_m\" + \"quote_n_m\" = VALIDATION_SIZE\n",
    "    training_m_ids = __M_IDS__[\n",
    "        quote_m:\n",
    "    ]  # of size (len(__M_IDS__) - quote_m), because we pick FROM quote_m onwards\n",
    "    training_non_m_ids = __NON_M_IDS__[\n",
    "        quote_n_m:\n",
    "    ]  # of size (len(__NON_M_IDS__) - quote_n_m) because we pick FROM quote_n_m onwards\n",
    "    return training_m_ids, training_non_m_ids\n",
    "\n",
    "\n",
    "def get_validation_ids():\n",
    "    ratio = len(__M_IDS__) / (len(__M_IDS__) + len(__NON_M_IDS__))\n",
    "\n",
    "    # Split the validation size into two parts: a medical part, and a non-medical part,\n",
    "    # so that the validation set is balanced with respect to the two classes\n",
    "    # VALIDATION_SIZE is a set amount that I decided (86, i.e. 10%)\n",
    "    quote_m = int(ratio * VALIDATION_SIZE)\n",
    "    quote_n_m = VALIDATION_SIZE - quote_m\n",
    "\n",
    "    # Obviously \"quote_m\" + \"quote_n_m\" = VALIDATION_SIZE\n",
    "    validation_m_ids = __M_IDS__[0:quote_m]  # of size quote_m\n",
    "    validation_non_m_ids = __NON_M_IDS__[0:quote_n_m]  # of size quote_n_m\n",
    "    return validation_m_ids, validation_non_m_ids\n",
    "\n",
    "\n",
    "def get_train_test(ids, p):\n",
    "    np.random.shuffle(ids)\n",
    "    quote = int(len(ids) * p)\n",
    "    return ids[:quote], ids[quote:]\n",
    "\n",
    "\n",
    "def make_labels(medical_ids, non_medical_ids):\n",
    "    labels = {}\n",
    "    for mi in medical_ids:\n",
    "        labels[mi] = 1\n",
    "    for nmi in non_medical_ids:\n",
    "        labels[nmi] = 0\n",
    "    return labels\n",
    "\n",
    "\n",
    "def tokenize(text):\n",
    "    return nltk.word_tokenize(text)\n",
    "\n",
    "\n",
    "# From an id, corresponding to a (cleaned) document, create its \"Bag of words\" representation.\n",
    "# This function does tokenization and text normalization before creating the representation\n",
    "def make_bow(id):\n",
    "    path = f\"./documents/{id}_c.txt\"\n",
    "    with open(path, \"r\") as f:\n",
    "        tokens = []\n",
    "\n",
    "        lines = f.readlines()\n",
    "        for l in lines:\n",
    "            tok = tokenize(l)\n",
    "            tokens = tokens + tok\n",
    "\n",
    "        # print(tokens)\n",
    "\n",
    "        counts = MyCounter(tokens)\n",
    "        # Text normalization: removal of stopwords and lemmatization\n",
    "        counts_stopped = counts.remove_stopwords()\n",
    "        counts_lemmatized = counts_stopped.lemmatize()\n",
    "        return counts_lemmatized\n",
    "\n",
    "\n",
    "# Compute the prediction and print the scores\n",
    "# 'ids': ids to predict (correspond to some documents),\n",
    "# 'priors': first element medical prior, second non-medical prior\n",
    "# 'm_doc': medical mega document\n",
    "# 'nm_doc': non-medical mega document\n",
    "def predict_and_score(ids, labels, priors, m_doc, nm_doc):\n",
    "    yhat = []\n",
    "    y = []\n",
    "    for i in ids:\n",
    "        # compute the likelihoods, one based on the medical mega document (index 0)\n",
    "        # one based on the non_medical mega documents\n",
    "        # We use the log likelihood to avoid numerical issues\n",
    "        likelihoods = [\n",
    "            make_bow(i).log_likelihood_sum(m_doc),\n",
    "            make_bow(i).log_likelihood_sum(nm_doc),\n",
    "        ]\n",
    "\n",
    "        posteriors = []\n",
    "\n",
    "        # To compute the posterior we need to multiply the correct prior\n",
    "        # because they were in log_sum format, we sum the log the prior\n",
    "        for j in range(len(likelihoods)):\n",
    "            posteriors.append(likelihoods[j] + np.log(priors[j]))\n",
    "        # Make the prediction: if the first (unnormalized) posterior is greater, predit 1 (i.e. medical), 0 other.\n",
    "        # Note that the a_posteriori doesn't require normalization\n",
    "        yhat.append(1 if posteriors[0] >= posteriors[1] else 0)\n",
    "        y.append(labels[i])\n",
    "\n",
    "    # Now that we have done it for each id, compute the main scores: precision, recall, and F1\n",
    "    precision = round(precision_score(y, yhat), 3)\n",
    "    recall = round(recall_score(y, yhat), 3)\n",
    "    f1 = round(f1_score(y, yhat), 3)\n",
    "    print(f\"Precision: {precision}, Recall: {recall}, F1: {f1}\")"
   ]
  },
  {
   "cell_type": "markdown",
   "metadata": {},
   "source": [
    "### Scores"
   ]
  },
  {
   "cell_type": "code",
   "execution_count": 56,
   "metadata": {},
   "outputs": [
    {
     "name": "stdout",
     "output_type": "stream",
     "text": [
      "_____ NAIVE BAYES _____\n"
     ]
    },
    {
     "name": "stdout",
     "output_type": "stream",
     "text": [
      "Precision: 0.865, Recall: 1.0, F1: 0.928\n"
     ]
    }
   ],
   "source": [
    "naive_bayes()"
   ]
  },
  {
   "cell_type": "markdown",
   "metadata": {},
   "source": [
    "## Logistic regressor (classifier)"
   ]
  },
  {
   "cell_type": "markdown",
   "metadata": {},
   "source": [
    "### Explanation, choices\n",
    "I also implemented a logistic regressor. \n",
    "To be able to use Logicistic regression, we need to create a dataset out of the downloaded documents. \n",
    "Instead of computing a \"a-posteriori' decision rule using the probabilities of the words of a document to belong to a 'mega-document', representing a class, we featurize each document and use these features to classify them. \n",
    "Deciding which features to use, how to create compounded features etc. concern 'feature engineering\". \n",
    "\n",
    "The most natural feature is the presence of a word that really signal that the document is a medical document, or that is not. We could choose arbitrary words that we feel are good signals, like 'Health' for medical documents or 'Poetry' for non-medical. \n",
    "\n",
    "A principled way to do it, which also leads to great results (see later), is to pick these features based on the training set: basically, pick medical articles and find the top *m* words; do the same for non-medical articles. Then, represent each document with *2m* binary features where 1 indicates that the word is present and 0 that is not. If the presence of the word is significant then these are very good features\n",
    "\n",
    "In particular, I first split the whole dataset in a training dataset and a validation set (10% of the whole dataset) (the validation set is to be used only to score the classifier). Then I did feature engineering by splitting again the training set in the training set proper (75% of the remaining), and a test set. I tried different values of *m*: 40, 80, 100, 150. I found, running the trained classifier on the test set, that the F1 kept increasing from around 0.91 for *m* = 40 to around 0.97 for *m* = 150. \n",
    "\n",
    "Given the extremely good results, I decided not to pursue other approaches and tested, finally, the classifier: I trained it on the original training dataset (90%) and test it on the validation set (which was never touched) and got a F1 of around 0.96 (with standard decision threshold). I also included a ROC curve to see how the percision and recall changes with different thresholds: with these simple features, the ROC AUC reaches a total of 0.99."
   ]
  },
  {
   "cell_type": "code",
   "execution_count": 57,
   "metadata": {},
   "outputs": [],
   "source": [
    "import matplotlib.pyplot as plt\n",
    "import pandas as pd\n",
    "from sklearn.linear_model import LogisticRegression\n",
    "\n",
    "\n",
    "def logistic_regressor(validation=False, plot=False):\n",
    "    print(\"_____ LOGISTIC REGRESSOR _____\")\n",
    "    labels = make_labels(__M_IDS__, __NON_M_IDS__)\n",
    "    # Set to be used as training and testing\n",
    "    medical_set, non_medical_set = get_training_ids()\n",
    "    # Validation set (double underscore because private, not the be used until the end)\n",
    "    __medical_validation_set__, __non_medical_validation_set__ = get_validation_ids()\n",
    "\n",
    "    # Split the training set in two datasets: training (proper), and test. We use a split of 75%\n",
    "    # We need to have a test dataset to test our features choice; the validation set is only to be used\n",
    "    # at the end, when we want a 'proper' score for our classifier\n",
    "    medical_training_set, medical_test_set = get_train_test(medical_set, 0.75)\n",
    "    non_medical_training_set, non_medical_test_set = get_train_test(\n",
    "        non_medical_set, 0.75\n",
    "    )\n",
    "\n",
    "    # Create mega document from training set only, not test set or validation set\n",
    "    # This is used to generate the top words to be used as features\n",
    "    medical_mega_document = MyCounter({}, stemmed=True)\n",
    "    for mi in medical_training_set:\n",
    "        medical_mega_document.update(make_bow(mi))\n",
    "\n",
    "    non_medical_mega_document = MyCounter({}, stemmed=True)\n",
    "    for nmi in non_medical_training_set:\n",
    "        non_medical_mega_document.update(make_bow(nmi))\n",
    "\n",
    "    # Common medical words\n",
    "    m_common = [a[0] for a in medical_mega_document.most_common(150)]\n",
    "    # Common non-medical words\n",
    "    non_m_common = [a[0] for a in non_medical_mega_document.most_common(150)]\n",
    "\n",
    "    common = m_common + non_m_common\n",
    "\n",
    "    # We create, for simplicity, three datasets in .csv that could be later be loaded\n",
    "    make_dataset(\n",
    "        \"training\", medical_training_set + non_medical_training_set, labels, common\n",
    "    )\n",
    "    make_dataset(\"test\", medical_test_set + non_medical_test_set, labels, common)\n",
    "    make_dataset(\n",
    "        \"validation\",\n",
    "        __medical_validation_set__ + __non_medical_validation_set__,\n",
    "        labels,\n",
    "        common,\n",
    "    )\n",
    "\n",
    "    # Load the datasets (could be already present on disk)\n",
    "    training_data = pd.read_csv(\"./training_dataset.csv\")\n",
    "    test_data = pd.read_csv(\"./test_dataset.csv\")\n",
    "    __validation_data__ = pd.read_csv(\"./validation_dataset.csv\")\n",
    "\n",
    "    y_training = training_data.pop(\"c\")\n",
    "    X_training = training_data\n",
    "    X_training.drop(\n",
    "        \"id\", inplace=True, axis=1\n",
    "    )  # drop the id column because it's just noise for the classifier\n",
    "\n",
    "    y_test = test_data.pop(\"c\")\n",
    "    X_test = test_data\n",
    "    X_test.drop(\"id\", inplace=True, axis=1)  # idem\n",
    "\n",
    "    if validation:\n",
    "        # Train on \"training\" + \"test\" and predict \"validation\" set\n",
    "        X_training = pd.concat([X_training, X_test])\n",
    "        y_training = pd.concat([y_training, y_test])\n",
    "\n",
    "        y_validation = __validation_data__.pop(\"c\")\n",
    "        X_validation = __validation_data__\n",
    "        X_validation.drop(\"id\", inplace=True, axis=1)\n",
    "\n",
    "        # Standard Logistic Regression classifier\n",
    "        logistic = LogisticRegression(\"l2\")\n",
    "        # Train on the training set\n",
    "        fitted = logistic.fit(X_training, y_training)\n",
    "\n",
    "        # Predict the validation set\n",
    "        yhat = fitted.predict(X_validation)\n",
    "\n",
    "        # Compute the scores\n",
    "        precision = round(precision_score(y_validation, yhat), 3)\n",
    "        recall = round(recall_score(y_validation, yhat), 3)\n",
    "        f1 = round(f1_score(y_validation, yhat), 3)\n",
    "        print(f\"Precision: {precision}, Recall: {recall}, F1: {f1}\")\n",
    "        print(\"(used Validation set)\")\n",
    "        if plot:\n",
    "            RocCurveDisplay.from_estimator(\n",
    "                fitted, X_validation, y_validation, plot_chance_level=True\n",
    "            )\n",
    "\n",
    "            plt.axis(\"square\")\n",
    "            plt.xlabel(\"False Positive Rate\")\n",
    "            plt.ylabel(\"True Positive Rate\")\n",
    "            plt.title(\"One-vs-Rest ROC curves: Medical vs Non-Medical\")\n",
    "            plt.legend()\n",
    "            plt.show()\n",
    "    else:\n",
    "        # Train on \"training\" and predict \"test\" set\n",
    "        # Standard Logistic Regression classifier\n",
    "        logistic = LogisticRegression(\"l2\")\n",
    "        # Train on the training set\n",
    "        fitted = logistic.fit(X_training, y_training)\n",
    "\n",
    "        # Predict the test set\n",
    "        yhat = fitted.predict(X_test)\n",
    "\n",
    "        precision = round(precision_score(y_test, yhat), 3)\n",
    "        recall = round(recall_score(y_test, yhat), 3)\n",
    "        f1 = round(f1_score(y_test, yhat), 3)\n",
    "        print(f\"Precision: {precision}, Recall: {recall}, F1: {f1}\")\n",
    "        if plot:\n",
    "            RocCurveDisplay.from_estimator(\n",
    "                fitted, X_test, y_test, plot_chance_level=True\n",
    "            ),\n",
    "\n",
    "            plt.axis(\"square\")\n",
    "            plt.xlabel(\"False Positive Rate\")\n",
    "            plt.ylabel(\"True Positive Rate\")\n",
    "            plt.title(\"One-vs-Rest ROC curves: Medical vs Non-Medical\")\n",
    "            plt.legend()\n",
    "            plt.show()\n",
    "\n",
    "\n",
    "# Compute the dataset\n",
    "# \"kind\": string to distinguish the type (training, test etc)\n",
    "# \"ids\": ids of the documents\n",
    "# \"labels\": correct labels for each id\n",
    "# \"most common\": most common words for both the medical class and non-medical class\n",
    "def make_dataset(kind, ids, labels, most_common):\n",
    "    np.random.shuffle(ids)\n",
    "    # \"id\" = id, \"c\" = class (1 if medical, 0 other.)\n",
    "    columns = [\n",
    "        \"id\",\n",
    "        \"c\",\n",
    "    ] + [\n",
    "        str(n) for n in range(len(most_common))\n",
    "    ]  # simple indexes of most common words\n",
    "    dataset = []\n",
    "\n",
    "    for id in ids:\n",
    "        c = labels[id]\n",
    "        features = [id, c]\n",
    "        # Create the bag of word representation\n",
    "        bow = make_bow(id)\n",
    "\n",
    "        # Check, for all most common words, if they are present in the document\n",
    "        for word in most_common:\n",
    "            if bow.contains(word):\n",
    "                # Append 1 if word is present\n",
    "                features.append(1)\n",
    "            else:\n",
    "                # 0 otherwise\n",
    "                features.append(0)\n",
    "\n",
    "        dataset.append(features)\n",
    "\n",
    "    df = pd.DataFrame(dataset, columns=columns)\n",
    "    # print(df)\n",
    "    df.to_csv(f\"./{kind}_dataset.csv\", index=False)"
   ]
  },
  {
   "cell_type": "markdown",
   "metadata": {},
   "source": [
    "### Scores"
   ]
  },
  {
   "cell_type": "code",
   "execution_count": 59,
   "metadata": {},
   "outputs": [
    {
     "name": "stdout",
     "output_type": "stream",
     "text": [
      "_____ LOGISTIC REGRESSOR _____\n",
      "Precision: 0.956, Recall: 0.956, F1: 0.956\n",
      "(used Validation set)\n"
     ]
    },
    {
     "data": {
      "image/png": "[encoded data removed]",
      "text/plain": [
       "<Figure size 640x480 with 1 Axes>"
      ]
     },
     "metadata": {},
     "output_type": "display_data"
    }
   ],
   "source": [
    "logistic_regressor(validation=True, plot=True)"
   ]
  },
  {
   "cell_type": "markdown",
   "metadata": {},
   "source": [
    "# Conclusions"
   ]
  },
  {
   "cell_type": "markdown",
   "metadata": {},
   "source": [
    "I implemented two classifiers for the task of binary classification: Naive Bayes and Logistic Classifier. The data was downloaded using Wikipedia API and the articles were chosen among different pre-picked categories: 5 medical categories and 8 non-medical categories. The whole dataset is build from around 850 datasets, with an almost even split between the two categories (0.53 vs 0.47).\n",
    "\n",
    "The articles were cleaned using custom rules and then, for both classification tasks, were put into a Bag of Word representation by: \n",
    "- applying tokenization to the original cleaned text;\n",
    "- applying text normalization before computing the counts; in particular, I applied a stop word elimination process followed by a lemmatization process, using NLTK standard features\n",
    "\n",
    "Both had amazing results, with a F1 of around 0.93 for Naive Bayes and 0.96 for Logistic Regression, with minimal feature engineering. "
   ]
  }
 ],
 "metadata": {
  "kernelspec": {
   "display_name": "Python 3.11.5 ('base')",
   "language": "python",
   "name": "python3"
  },
  "language_info": {
   "codemirror_mode": {
    "name": "ipython",
    "version": 3
   },
   "file_extension": ".py",
   "mimetype": "text/x-python",
   "name": "python",
   "nbconvert_exporter": "python",
   "pygments_lexer": "ipython3",
   "version": "3.11.5"
  },
  "orig_nbformat": 4,
  "vscode": {
   "interpreter": {
    "hash": "2a541b3ac8cb6bde8bf2f40370b4b304d430b09de9e456ad867feddab99cbf32"
   }
  }
 },
 "nbformat": 4,
 "nbformat_minor": 2
}
